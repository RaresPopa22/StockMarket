{
 "cells": [
  {
   "metadata": {},
   "cell_type": "markdown",
   "source": [
    "# Exploratory Data Analysis: Stock Market\n",
    "\n",
    "In this notebook we will analyze the historical daily price and volume data for all US based stocks and ETFs made available on [Kaggle](https://www.kaggle.com/datasets/borismarjanovic/price-volume-data-for-all-us-stocks-etfs/data). The goal is to understand the structure of the data, identify any potential issues or characteristics and lay the groundwork for predictive modeling.\n",
    "\n",
    "### 1. Setup and Imports"
   ],
   "id": "134f5264b67b099f"
  },
  {
   "metadata": {},
   "cell_type": "code",
   "outputs": [],
   "execution_count": null,
   "source": [
    "import pandas as pd\n",
    "import numpy as np\n",
    "import os\n",
    "import glob\n",
    "import matplotlib.pyplot as plt\n",
    "import seaborn as sns\n",
    "from pandas.errors import EmptyDataError\n",
    "\n",
    "sns.set_theme(style=\"whitegrid\")\n",
    "plt.style.use(\"fivethirtyeight\")\n",
    "\n",
    "base_path = \"../data/raw/Data/Stocks/\""
   ],
   "id": "d526e83f778225a"
  },
  {
   "metadata": {},
   "cell_type": "markdown",
   "source": [
    "### 2. Data overview\n",
    "\n",
    "The dataset is distributed into many individual `.txt` files, each representing a single stock ticker. The first step will be to aggregate the data into a single DataFrame, and hopefully get a comprehensive view."
   ],
   "id": "d69909e9c171228d"
  },
  {
   "metadata": {},
   "cell_type": "code",
   "outputs": [],
   "execution_count": null,
   "source": [
    "all_files = glob.glob(os.path.join(base_path, \"*.us.txt\"))\n",
    "\n",
    "df_list = []\n",
    "for file in all_files:\n",
    "    try:\n",
    "        temp_df = pd.read_csv(file)\n",
    "        ticker = os.path.basename(file).split('.us.txt')[0]\n",
    "        temp_df['Ticker'] = ticker\n",
    "        df_list.append(temp_df)\n",
    "    except EmptyDataError as e:\n",
    "        print(f'Skipping empty file: {os.path.basename(file)}')\n",
    "        continue\n",
    "\n",
    "df = pd.concat(df_list, ignore_index=True)\n",
    "\n",
    "print('Data Information:')\n",
    "df.info()\n",
    "\n",
    "print('First five rows:')\n",
    "print(df.head())\n",
    "\n",
    "print('Summary Statistics:')\n",
    "print(df.describe())"
   ],
   "id": "f9b71fa92fc36a2e"
  },
  {
   "metadata": {},
   "cell_type": "markdown",
   "source": "One thing that can be quickly noticed is that the OpenInt column is all zeros for the first five rows. Let's check if that holds true for all entries.",
   "id": "da0f64f7758b2169"
  },
  {
   "metadata": {},
   "cell_type": "code",
   "outputs": [],
   "execution_count": null,
   "source": [
    "is_all_zero = (df['OpenInt'] == 0).all()\n",
    "print(f'Is column `OpenInt` all zeros? {is_all_zero}')"
   ],
   "id": "a4d9aea6ec324bac"
  },
  {
   "metadata": {},
   "cell_type": "markdown",
   "source": [
    "Bittersweet news: while we can safely remove it, what we hoped would be valuable information turned out to be just empty data.\n",
    "\n",
    "Before moving on, the Date column seems to be object type, a string. This might be a problem leaving it as is, and it might prevent our model from training correctly and understanding the time-series nature of the data."
   ],
   "id": "bb72ad511130d624"
  },
  {
   "metadata": {},
   "cell_type": "markdown",
   "source": [
    "### 3. Data cleaning and Preprocessing\n",
    "\n",
    "Based on our initial findings, let's perform some necessary cleaning steps to prepare the data for analysis."
   ],
   "id": "c7b269805bde3095"
  },
  {
   "metadata": {},
   "cell_type": "code",
   "outputs": [],
   "execution_count": null,
   "source": [
    "df['Date'] = pd.to_datetime(df['Date'])\n",
    "df = df.drop('OpenInt', axis=1)\n",
    "df.set_index('Date', inplace=True)\n",
    "\n",
    "print('Data after cleaning, first five rows:')\n",
    "print(df.head())"
   ],
   "id": "7ae87ca013e3a4a9"
  },
  {
   "metadata": {},
   "cell_type": "markdown",
   "source": [
    "### 4. Exploring key Tickers\n",
    "\n",
    "Let's now focus on the most important part of this notebook, visualizing the data to understand its behaviour. We will focus on just a couple of well known tickers Apple (aapl) and Google (googl) to get a feel for the trends.\n",
    "\n",
    "#### Closing price over time\n",
    "\n",
    "This plot helps us visualize the long-term price and compare the performance of different stocks."
   ],
   "id": "e962f9df163bbff7"
  },
  {
   "metadata": {},
   "cell_type": "code",
   "outputs": [],
   "execution_count": null,
   "source": [
    "plt.figure(figsize=(14, 7))\n",
    "plt.title('Closing price over time (AAPL vs GOOGL)')\n",
    "plt.ylabel('Price (USD)')\n",
    "\n",
    "df[df['Ticker'] == 'aapl']['Close'].plot(label='AAPL', legend=True)\n",
    "df[df['Ticker'] == 'googl']['Close'].plot(label='GOOGL', legend=True)\n",
    "\n",
    "plt.show()"
   ],
   "id": "3bb2b9e27320cbd1"
  },
  {
   "metadata": {},
   "cell_type": "markdown",
   "source": [
    "So let's break down what was plotted above. The historical data goes from way back in 1984 to 2018. Both exhibit bullish(upward) long-term trend, which indicates significant company growth and positive investor returns. Apple's data spans a much longer period, starting  actually in 1980. Google's data begins around in 2004.\n",
    "\n",
    "But let's take a step back, and see the role of the two tickers. The data is a time series with clear trends. Volatility is a core feature. One very important aspect is that the price and volume (not shown here) are on vastly different scaled, which tells us that normalization is a must.\n",
    "\n",
    "An important point, and maybe the most, is that the two tickers look very different. The individuality of each ticker is a core feature of the problem. Our goal is not build a model that can predict GOOGL's price. The strategy is to create a generalizable model, that can take historical data of any ticker as input and produce a meaningful output forecast.\n",
    "\n",
    "The patterns we can see in AAPL and GOOGL, like trends and volatility, tell us what kinds of features we should engineer for every stock. Our data preprocessing should include a computation of things like moving averages, rolling volatility and momentum indicators for each ticker individually.\n",
    "\n",
    "And lastly because looking at individual stocks is limiting, it forces the next step to be aggregate analysis. We will continue with that in the next sections, by looking at volatility, volume, performance and outliers."
   ],
   "id": "22b2570507318ee2"
  },
  {
   "metadata": {},
   "cell_type": "markdown",
   "source": [
    "### 5. Volatility and volume analysis\n",
    "\n",
    "As mentioned before we will move to the big picture. The goal will be to analyze the entire dataset to identify any market-wide patterns, distributions and outliers.\n",
    "\n",
    "#### Volatility analysis: most and least volatile stocks\n",
    "\n",
    "Volatility is a measure of risk. We can identify the most and least volatile stocks by computing the standard deviation of their daily returns. A higher standard deviation implies more price swings."
   ],
   "id": "6b07cb1525708803"
  },
  {
   "metadata": {},
   "cell_type": "code",
   "outputs": [],
   "execution_count": null,
   "source": [
    "df['Daily Return'] = df.groupby('Ticker')['Close'].pct_change()\n",
    "volatility = df.groupby('Ticker')['Daily Return'].std().sort_values(ascending=False)\n",
    "\n",
    "print(\"Top 10 most volatile stocks:\")\n",
    "print(volatility.head(10))\n",
    "\n",
    "print(\"Top 10 least volatile stocks:\")\n",
    "print(volatility.tail(10))\n",
    "\n",
    "plt.figure(figsize=(12, 6))\n",
    "volatility.head(10).plot(kind='bar')\n",
    "plt.title('Top 10 most volatile stocks')\n",
    "plt.xlabel('Ticker')\n",
    "plt.ylabel('Standard deviation of daily return')\n",
    "plt.show()"
   ],
   "id": "37a68503db089cb1"
  },
  {
   "metadata": {},
   "cell_type": "markdown",
   "source": "Such high volatility results are extreme statistical outliers that point to data quality issues, not market volatility. A standard deviation of 614 implies an average daily price change of 61400%. This is a sign of corrupt or unadjusted data. But for a better estimate let's plot the closing prices over time.",
   "id": "e45de8d17019ec2a"
  },
  {
   "metadata": {},
   "cell_type": "code",
   "outputs": [],
   "execution_count": null,
   "source": [
    "top_ten_volatile_tickers = volatility.head(10).index\n",
    "df_subset = df[df['Ticker'].isin(top_ten_volatile_tickers)].reset_index()\n",
    "\n",
    "g = sns.FacetGrid(df_subset, col='Ticker', col_wrap=5, sharey=False, height=3)\n",
    "g.map(plt.plot, \"Date\", \"Close\")\n",
    "\n",
    "g.set_xticklabels(rotation=45)\n",
    "g.fig.suptitle('Closing Prices for Top 10 Volatile Tickers (Individual Scales)', y=1.03)\n",
    "plt.tight_layout()\n",
    "plt.show()"
   ],
   "id": "d4e4f62304f3c9e8"
  },
  {
   "metadata": {},
   "cell_type": "markdown",
   "source": [
    "From the multifacet plot above we can identify two different types of data problems. One is unsalvageable(second row) while the other has zero value outliers(first row).\n",
    "\n",
    "To have a price that is near or zero then a spike to an absurd value and back to near zero, it isn't plain possible on real markets. This is fundamentally corrupt and unusable data. These tickers will be removed entirely.\n",
    "\n",
    "Now about the zero value outliers. The pattern for the first row is different and suggest a fix. The overall price history looks legitimate, but has sudden single day drops to zero. This could be missing data being incorrectly filled with a zero. However, the last two here will be excluded as well. The second to last, has a deviation of 33, which here means a 3300% increase, while it may not be a data error, its behavior is so extreme that it's an outlier. For a generalizable model a ticker like this provides noise rather than signal. As for the last one, here we have huge jumps from near 0 to 600, maybe a reverse stock split, where the company consolidated its shares, causing the huge price jump."
   ],
   "id": "84a6fa9c6b1ec245"
  },
  {
   "metadata": {},
   "cell_type": "markdown",
   "source": "Now before we move on, we should also talk a bit about the least volatile stocks. There are tickers for which we have at most two rows, which produce NaN values. Files that contain one or two rows are likely to be of any value for analysis and can be considered noise. These files lack sufficient information for training a model.",
   "id": "39856fd310696e66"
  },
  {
   "metadata": {},
   "cell_type": "code",
   "outputs": [],
   "execution_count": null,
   "source": [
    "two_row_or_less_file_count=0\n",
    "for file in all_files:\n",
    "    try:\n",
    "        temp_df = pd.read_csv(file)\n",
    "\n",
    "        if len(temp_df) <= 2:\n",
    "            two_row_or_less_file_count += 1\n",
    "    except EmptyDataError:\n",
    "        continue\n",
    "\n",
    "print(f'Number of files with maximum two rows={two_row_or_less_file_count}')"
   ],
   "id": "c7578f8f34890636"
  },
  {
   "metadata": {},
   "cell_type": "markdown",
   "source": "A model cannot learn any trend, pattern or seasonality from two data points. To a model, these files will represent random noise, not signal. Including them will most probably degrade performance.",
   "id": "84bfccb367237009"
  },
  {
   "metadata": {},
   "cell_type": "markdown",
   "source": [
    "#### Volume analysis: distribution of trading activity\n",
    "\n",
    "Next let's take a look at the average daily trading volume for every stock. This will tell use if our dataset contains heavily-traded blue chip stocks or is dominated by thinly traded ones."
   ],
   "id": "2bcbd3d70d312a97"
  },
  {
   "metadata": {},
   "cell_type": "code",
   "outputs": [],
   "execution_count": null,
   "source": [
    "average_volume = df.groupby('Ticker')['Volume'].mean().sort_values(ascending=False)\n",
    "\n",
    "print(\"Top 10 most traded stocks (by Average daily volume):\")\n",
    "print(average_volume.head(10))\n",
    "\n",
    "plt.figure(figsize=(12, 6))\n",
    "sns.histplot(average_volume, bins=200, kde=True, log_scale=True)\n",
    "plt.title('Distribution of average daily trading volume (log scale)')\n",
    "plt.xlabel('Average daily volume (log scale)')\n",
    "plt.ylabel('Number of tickers')\n",
    "plt.show()"
   ],
   "id": "955eabc1f41cd366"
  },
  {
   "metadata": {},
   "cell_type": "markdown",
   "source": "The x-axis here is on log scale. The fact that the histogram appears bell-shaped curve on a log scale indicates that the underlying distribution of the average daily trading is log-normal. This indicates that a very small number of stocks have extremely high trading volumes, while the vast majority is much less actively traded. This is a critical insight for modeling, features like volume need to be log normalized to be useful.",
   "id": "e59bdd8e082710fc"
  },
  {
   "metadata": {},
   "cell_type": "markdown",
   "source": [
    "#### Performance analysis: best and worst performers\n",
    "\n",
    "Finally let's calculate the total return for each stock over the entire period covered by the dataset, and identify the biggest winners and losers."
   ],
   "id": "12ea9237746b296b"
  },
  {
   "metadata": {
    "ExecuteTime": {
     "end_time": "2025-09-25T19:14:17.324892Z",
     "start_time": "2025-09-25T19:14:16.830154Z"
    }
   },
   "cell_type": "code",
   "source": [
    "performance = df.groupby('Ticker')['Close'].agg(['first', 'last'])\n",
    "performance['Cumulative Return'] = (performance['last']/performance['first']) - 1\n",
    "performance = performance.sort_values(by='Cumulative Return', ascending=False)\n",
    "\n",
    "print('Top 10 best performing stocks:')\n",
    "print(performance.head(10))\n",
    "\n",
    "print('Top 10 worst performing stocks:')\n",
    "print(performance.tail(10))\n",
    "\n",
    "plt.figure(figsize=(12, 6))\n",
    "performance.head(10)['Cumulative Return'].plot(kind='bar', color='green')\n",
    "plt.title('Top 10 best performing stocks (Cumulative return)')\n",
    "plt.xlabel('Ticker')\n",
    "plt.ylabel('Return')\n",
    "plt.gca().yaxis.set_major_formatter(plt.FuncFormatter(lambda y, _: '{:.0%}'.format(y)))\n",
    "plt.show()"
   ],
   "id": "48c52b42455a646a",
   "outputs": [
    {
     "name": "stdout",
     "output_type": "stream",
     "text": [
      "Top 10 best performing stocks:\n",
      "            first       last  Cumulative Return\n",
      "Ticker                                         \n",
      "hd        0.02585     164.11        6347.549323\n",
      "mo        0.02190      65.02        2967.949772\n",
      "intc      0.01592      45.58        2862.065327\n",
      "wmt       0.03403      90.92        2670.760212\n",
      "amgn      0.08764     172.34        1965.453674\n",
      "msft      0.07533      83.87        1112.367848\n",
      "brk-a   290.00000  275660.00         949.551724\n",
      "uve       0.02781      25.25         906.946782\n",
      "adbe      0.21000     181.72         864.333333\n",
      "unh       0.26126     211.07         806.892521\n",
      "Top 10 worst performing stocks:\n",
      "               first    last  Cumulative Return\n",
      "Ticker                                         \n",
      "abio    6.468000e+03   1.150          -0.999822\n",
      "gevo    5.109000e+03   0.630          -0.999877\n",
      "rsls    2.352000e+04   1.700          -0.999928\n",
      "rnva    1.124944e+04   0.589          -0.999948\n",
      "aphb    3.421875e+04   0.939          -0.999973\n",
      "dcix    4.069724e+05  10.880          -0.999973\n",
      "clrb    6.890670e+04   1.530          -0.999978\n",
      "rgse    1.200000e+05   1.720          -0.999986\n",
      "tops    3.439800e+06   0.720          -1.000000\n",
      "drys    2.542854e+08   4.100          -1.000000\n"
     ]
    },
    {
     "data": {
      "text/plain": [
       "<Figure size 1200x600 with 1 Axes>"
      ],
      "image/png": "[encoded data removed]"
     },
     "metadata": {},
     "output_type": "display_data",
     "jetTransient": {
      "display_id": null
     }
    }
   ],
   "execution_count": 38
  },
  {
   "metadata": {},
   "cell_type": "markdown",
   "source": [
    "The worst performs highlight an important thing here, we have entries that are extremely misleading. Maybe because of a reverse stock split the historical prices were multiplied by the split ratio. That original price of a few dollars now looks like a massive number in the historical record.\n",
    "\n",
    "I think this EDA has discovered a very important fact. The data has not been adjusted properly so we have a couple of options here:\n",
    "* Get adjusted data, from a different data source like Yahoo Finance's API.\n",
    "* Filter out these stocks"
   ],
   "id": "70bbad2727bc0f3a"
  },
  {
   "metadata": {},
   "cell_type": "code",
   "outputs": [],
   "execution_count": null,
   "source": "",
   "id": "a6f015af56d1f80f"
  }
 ],
 "metadata": {
  "kernelspec": {
   "display_name": "Python 3",
   "language": "python",
   "name": "python3"
  },
  "language_info": {
   "codemirror_mode": {
    "name": "ipython",
    "version": 2
   },
   "file_extension": ".py",
   "mimetype": "text/x-python",
   "name": "python",
   "nbconvert_exporter": "python",
   "pygments_lexer": "ipython2",
   "version": "2.7.6"
  }
 },
 "nbformat": 4,
 "nbformat_minor": 5
}
